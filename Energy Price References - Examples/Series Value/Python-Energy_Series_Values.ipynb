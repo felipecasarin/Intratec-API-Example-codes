{
 "cells": [
  {
   "cell_type": "markdown",
   "metadata": {},
   "source": [
    "This is an example on how to use the **Intratec Energy Price References - Series Values** in Python, using the **requests** library\n",
    "\n",
    "**Tip:** this code can be implemented including the **Access Token** example to seamless integrate both APIs."
   ]
  },
  {
   "cell_type": "code",
   "execution_count": 1,
   "metadata": {},
   "outputs": [],
   "source": [
    "import requests\n",
    "import getpass"
   ]
  },
  {
   "cell_type": "code",
   "execution_count": null,
   "metadata": {},
   "outputs": [],
   "source": [
    "#Codes you want to get the prices for (separated by commas). If you do not know the codes you have access to, run the Intratec Energy Price References - Series Info API\n",
    "codes = '68520-8-1,68520-8-1[EUR-gal]'\n",
    "\n",
    "#To create the authorization header using the Access Token obtained by the Intratec Access Token API:\n",
    "token = input(\"Paste your Access Token from the Intratec Access Token API:\")\n",
    "token = 'Bearer ' + token\n",
    "\n",
    "headers = {\n",
    "    'Authorization': token,\n",
    "    'Content-Type': 'application/json'\n",
    "}\n",
    "\n",
    "\n",
    "#This is the URL to the Get Series Values - Energy Price References API:\n",
    "ep_series_values_api_url = 'https://intratec.azure-api.net/energy_price/v1/export/series/' + codes"
   ]
  },
  {
   "cell_type": "code",
   "execution_count": 15,
   "metadata": {},
   "outputs": [],
   "source": [
    "#Make a GET request to the Energy Price References - Series Values API\n",
    "response = requests.get(ep_series_values_api_url, headers=headers)"
   ]
  },
  {
   "cell_type": "code",
   "execution_count": null,
   "metadata": {},
   "outputs": [],
   "source": [
    "json_response = response.json()\n",
    "\n",
    "#Get the response\n",
    "print(json_response)"
   ]
  },
  {
   "cell_type": "markdown",
   "metadata": {},
   "source": [
    "Output example for the code 68520-8-1:\n",
    "\n",
    "[{\n",
    "    \"assessment\": \"Crude Oil, west texas intermediate, United States, spot price, fob, Cushing\",\n",
    "    \"code\": \"68520-8-1\",\n",
    "    \"coverage\": \"Americas\",\n",
    "    \"currency\": \"USD\",\n",
    "    \"product\": \"Energy Price References\",\n",
    "    \"remark_1\": \"lag: 0\",\n",
    "    \"remark_2\": \"-\",\n",
    "    \"series_final_values\": [{\n",
    "        \"date\": \"2023-10-01\",\n",
    "        \"value\": 85\n",
    "    }, {\n",
    "        \"date\": \"2023-09-01\",\n",
    "        \"value\": 90.3\n",
    "    }, {\n",
    "        \"date\": \"2023-08-01\",\n",
    "        \"value\": 81.2\n",
    "    }, {\n",
    "        \"date\": \"2023-07-01\",\n",
    "        \"value\": 75.6\n",
    "    }, {\n",
    "        \"date\": \"2023-06-01\",\n",
    "        \"value\": 70.2\n",
    "    }, {\n",
    "        \"date\": \"2023-05-01\",\n",
    "        \"value\": 71.6\n",
    "    }, {\n",
    "        \"date\": \"2023-04-01\",\n",
    "        \"value\": 79.2\n",
    "    }, {\n",
    "        \"date\": \"2023-03-01\",\n",
    "        \"value\": 73.8\n",
    "    }, {\n",
    "        \"date\": \"2023-02-01\",\n",
    "        \"value\": 76.9\n",
    "    }, {\n",
    "        \"date\": \"2023-01-01\",\n",
    "        \"value\": 78.4\n",
    "    }, {\n",
    "        \"date\": \"2022-12-01\",\n",
    "        \"value\": 76.7\n",
    "    }, {\n",
    "        \"date\": \"2022-11-01\",\n",
    "        \"value\": 84\n",
    "    }, {\n",
    "        \"date\": \"2022-10-01\",\n",
    "        \"value\": 87\n",
    "    }],\n",
    "    \"series_forecast_values\": [{\n",
    "        \"date\": \"2024-07-01\",\n",
    "        \"value\": 78\n",
    "    }, {\n",
    "        \"date\": \"2024-06-01\",\n",
    "        \"value\": 78\n",
    "    }, {\n",
    "        \"date\": \"2024-05-01\",\n",
    "        \"value\": 78\n",
    "    }, {\n",
    "        \"date\": \"2024-04-01\",\n",
    "        \"value\": 79\n",
    "    }, {\n",
    "        \"date\": \"2024-03-01\",\n",
    "        \"value\": 79\n",
    "    }, {\n",
    "        \"date\": \"2024-02-01\",\n",
    "        \"value\": 80\n",
    "    }, {\n",
    "        \"date\": \"2024-01-01\",\n",
    "        \"value\": 81\n",
    "    }, {\n",
    "        \"date\": \"2023-12-01\",\n",
    "        \"value\": 81\n",
    "    }, {\n",
    "        \"date\": \"2023-11-01\",\n",
    "        \"value\": 89\n",
    "    }],\n",
    "    \"unit\": \"Bbl\",\n",
    "    \"updated_at\": \"2023-11-06\"\n",
    "}]"
   ]
  }
 ],
 "metadata": {
  "kernelspec": {
   "display_name": "venv",
   "language": "python",
   "name": "python3"
  },
  "language_info": {
   "codemirror_mode": {
    "name": "ipython",
    "version": 3
   },
   "file_extension": ".py",
   "mimetype": "text/x-python",
   "name": "python",
   "nbconvert_exporter": "python",
   "pygments_lexer": "ipython3",
   "version": "3.12.2"
  }
 },
 "nbformat": 4,
 "nbformat_minor": 2
}
