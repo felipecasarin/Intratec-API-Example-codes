{
 "cells": [
  {
   "cell_type": "markdown",
   "metadata": {},
   "source": [
    "This is an example on how to use the **Intratec Energy Price References - Series Values** in Python, using the **requests** library"
   ]
  },
  {
   "cell_type": "code",
   "execution_count": 1,
   "metadata": {},
   "outputs": [],
   "source": [
    "import requests\n",
    "import getpass #Not mandatory, but it helps to keep your credentials out of the code"
   ]
  },
  {
   "cell_type": "code",
   "execution_count": 14,
   "metadata": {},
   "outputs": [
    {
     "name": "stdout",
     "output_type": "stream",
     "text": [
      "https://intratec.azure-api.net/energy_price/v1/export/series/43125-8-1\n",
      "Bearer eyJhbGciOiJSUzI1NiIsImtpZCI6IjBYR1NLSzVIdFlHWkpLWmhXNndRQjE1M0NFUzFiRTNBaDROcy16MVFYaVUiLCJ0eXAiOiJKV1QifQ.eyJvaWQiOiIyYmU3NDNlYy00ZWViLTRlZjMtOGUyZS1kNmQyZWE0NWU2YzciLCJzdWIiOiIyYmU3NDNlYy00ZWViLTRlZjMtOGUyZS1kNmQyZWE0NWU2YzciLCJlbWFpbCI6InBhdWxhLnJheW9sQGludHJhdGVjLnVzIiwiZmlyc3RfbmFtZSI6IlBhdWxhIiwibGFzdF9uYW1lIjoiUmF5b2wiLCJjb21wYW55IjoiQ29tcGFueU5hbWUiLCJjcF9jb3ZlcmFnZSI6IjAiLCJjcF9pc19zdWJzY3JpYmVyIjpmYWxzZSwiY3BfYXBpX2FjY2VzcyI6ZmFsc2UsImVwX2NvdmVyYWdlIjoiMSwyLDMsNCw1LDYiLCJlcF9pc19zdWJzY3JpYmVyIjp0cnVlLCJlcF9hcGlfYWNjZXNzIjp0cnVlLCJpbl91Y19jb3ZlcmFnZSI6IjEsMiwzLDQsNSw2IiwiaW5fdWNfaXNfc3Vic2NyaWJlciI6dHJ1ZSwiaW5fdWNfYXBpX2FjY2VzcyI6dHJ1ZSwiaW5fbGZfY292ZXJhZ2UiOiIxLDIsMyw0LDUsNiIsImluX2xmX2lzX3N1YnNjcmliZXIiOnRydWUsImluX2xmX2FwaV9hY2Nlc3MiOnRydWUsImluX2NpX2NvdmVyYWdlIjoiMSIsImluX2NpX2lzX3N1YnNjcmliZXIiOnRydWUsImluX2NpX2FwaV9hY2Nlc3MiOnRydWUsInRpZCI6Ijc0YjkzN2U5LTM2ZDUtNDViNy04OTMyLTMyYjk2YzQ5MGEzZSIsImF6cCI6IjQwZTIzYWVjLWUxZTgtNGViYy05ZGQ0LTcwYTk3ZTNmYmE4MCIsInZlciI6IjEuMCIsImlhdCI6MTcwODk0ODE4OSwiYXVkIjoiNDBlMjNhZWMtZTFlOC00ZWJjLTlkZDQtNzBhOTdlM2ZiYTgwIiwiZXhwIjoxNzA4OTU1Mzg5LCJpc3MiOiJodHRwczovL2ludHJhdGVjbG9naW4uYjJjbG9naW4uY29tLzc0YjkzN2U5LTM2ZDUtNDViNy04OTMyLTMyYjk2YzQ5MGEzZS92Mi4wLyIsIm5iZiI6MTcwODk0ODE4OX0.QFi-dDFWWx6j5Wxpcgv5mtWflG5m-CC_AWmMCbeLTbitRei7xGIaMCQHl3lurwpJFfFRDLMwG9xJspjw4S31c7BfD612Fpew8JiMgSXhdl2h53CTTa_jvrLs0YYLowU3rCsdENbIGbL7ABuZiCVPy8hu9FjXZvcLwWfZSu65k5ZffC0jysCHQ3HIlDCFAdOW2I8BhguzkfIJ9KEk8z_MY7anAZZ3EW3FFLELmBbWcpJwKBfcrWZvdmzz6ZgJzxahiO9o8rmTMqtxgO9YToEl8ElsPcQm3t127pCRUND2B21cmyeAoiv3Nb0DwtbWpreeSBvHASO7ktMrypTs2vFXkQ\n"
     ]
    }
   ],
   "source": [
    "#Codes you want to get the prices for (separated by commas). If you do not know the codes you have access to, run the Intratec Energy Price References - Series Info API\n",
    "codes = input(\"Provide the codes you want to get the prices for (for multiple codes, separate by comma):\")\n",
    "\n",
    "#To create the authorization header using the Access Token obtained by the Intratec Access Token API:\n",
    "token = input(\"Paste your Access Token from the Intratec Access Token API:\")\n",
    "token = 'Bearer ' + token\n",
    "\n",
    "headers = {\n",
    "    'Authorization': token,\n",
    "    'Content-Type': 'application/json'\n",
    "}\n",
    "\n",
    "\n",
    "#This is the URL to the Intratec Access Token API:\n",
    "ep_series_values_api_url = 'https://intratec.azure-api.net/energy_price/v1/export/series/' + codes\n",
    "print(ep_series_values_api_url)\n",
    "print(token)"
   ]
  },
  {
   "cell_type": "code",
   "execution_count": 15,
   "metadata": {},
   "outputs": [],
   "source": [
    "#Make a POST request to the Access Token API\n",
    "response = requests.get(ep_series_values_api_url, headers=headers)"
   ]
  },
  {
   "cell_type": "code",
   "execution_count": null,
   "metadata": {},
   "outputs": [],
   "source": [
    "# Check if the request was successful (status code 200)\n",
    "if response.status_code == 200:\n",
    "    #Parse the JSON response\n",
    "    json_response = response.json()\n",
    "\n",
    "    #Now you can use your Access Token in other Intratec API calls\n",
    "    print(json_response)\n",
    "else:\n",
    "    #Print an error message if the request was not successful\n",
    "    print(f\"Error: {response.status_code} - {response.text}\")\n"
   ]
  },
  {
   "cell_type": "markdown",
   "metadata": {},
   "source": [
    "Output example for the code 68520-8-1:\n",
    "\n",
    "[{\"assessment\":\"Crude Oil, United States, - , contract, fob\",\"code\":\"68520-8-1\",\"coverage\":\"Americas\",\"currency\":\"USD\",\"product\":\"Energy Price References\",\"remark_1\":\"-\",\"remark_2\":\"lag: 0\",\"series_final_values\":[{\"date\":\"2023-10-01\",\"value\":85},{\"date\":\"2023-09-01\",\"value\":90.3},{\"date\":\"2023-08-01\",\"value\":81.2},{\"date\":\"2023-07-01\",\"value\":75.6},{\"date\":\"2023-06-01\",\"value\":70.2},{\"date\":\"2023-05-01\",\"value\":71.6},{\"date\":\"2023-04-01\",\"value\":79.2},{\"date\":\"2023-03-01\",\"value\":73.8},{\"date\":\"2023-02-01\",\"value\":76.9},{\"date\":\"2023-01-01\",\"value\":78.4},{\"date\":\"2022-12-01\",\"value\":76.7},{\"date\":\"2022-11-01\",\"value\":84},{\"date\":\"2022-10-01\",\"value\":87}],\"series_forecast_values\":[{\"date\":\"2024-07-01\",\"value\":78},{\"date\":\"2024-06-01\",\"value\":78},{\"date\":\"2024-05-01\",\"value\":78},{\"date\":\"2024-04-01\",\"value\":79},{\"date\":\"2024-03-01\",\"value\":79},{\"date\":\"2024-02-01\",\"value\":80},{\"date\":\"2024-01-01\",\"value\":81},{\"date\":\"2023-12-01\",\"value\":81},{\"date\":\"2023-11-01\",\"value\":89}],\"unit\":\"Bbl\",\"updated_at\":\"2023-11-06\"}]"
   ]
  }
 ],
 "metadata": {
  "kernelspec": {
   "display_name": "venv",
   "language": "python",
   "name": "python3"
  },
  "language_info": {
   "codemirror_mode": {
    "name": "ipython",
    "version": 3
   },
   "file_extension": ".py",
   "mimetype": "text/x-python",
   "name": "python",
   "nbconvert_exporter": "python",
   "pygments_lexer": "ipython3",
   "version": "3.12.2"
  }
 },
 "nbformat": 4,
 "nbformat_minor": 2
}
