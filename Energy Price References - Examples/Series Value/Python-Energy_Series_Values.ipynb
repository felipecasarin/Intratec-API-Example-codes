{
 "cells": [
  {
   "cell_type": "markdown",
   "metadata": {},
   "source": [
    "This is an example on how to use the **Intratec Energy Price References - Series Values** in Python, using the **requests** library\n",
    "\n",
    "Note that this code can be used **without any changes**, as long as you have the necessary packages installed in your environment and fulfill the requirements to use Intratec APIs.\n",
    "\n",
    "**Tip:** this code can be implemented including the **Access Token** example to seamless integrate both APIs."
   ]
  },
  {
   "cell_type": "code",
   "execution_count": 1,
   "metadata": {},
   "outputs": [],
   "source": [
    "import requests\n",
    "import getpass #Not mandatory, but it helps to keep your credentials out of the code"
   ]
  },
  {
   "cell_type": "code",
   "execution_count": null,
   "metadata": {},
   "outputs": [],
   "source": [
    "#Codes you want to get the prices for (separated by commas). If you do not know the codes you have access to, run the Intratec Energy Price References - Series Info API\n",
    "codes = input(\"Provide the codes you want to get the prices for (for multiple codes, separate by comma):\")\n",
    "\n",
    "#To create the authorization header using the Access Token obtained by the Intratec Access Token API:\n",
    "token = input(\"Paste your Access Token from the Intratec Access Token API:\")\n",
    "token = 'Bearer ' + token\n",
    "\n",
    "headers = {\n",
    "    'Authorization': token,\n",
    "    'Content-Type': 'application/json'\n",
    "}\n",
    "\n",
    "\n",
    "#This is the URL to the Intratec Access Token API:\n",
    "ep_series_values_api_url = 'https://intratec.azure-api.net/energy_price/v1/export/series/' + codes"
   ]
  },
  {
   "cell_type": "code",
   "execution_count": 15,
   "metadata": {},
   "outputs": [],
   "source": [
    "#Make a GET request to the Energy Price References - Series Values API\n",
    "response = requests.get(ep_series_values_api_url, headers=headers)"
   ]
  },
  {
   "cell_type": "code",
   "execution_count": null,
   "metadata": {},
   "outputs": [],
   "source": [
    "# Check if the request was successful (status code 200)\n",
    "if response.status_code == 200:\n",
    "    #Parse the JSON response\n",
    "    json_response = response.json()\n",
    "\n",
    "    #Now you can use your Access Token in other Intratec API calls\n",
    "    print(json_response)\n",
    "else:\n",
    "    #Print an error message if the request was not successful\n",
    "    print(f\"Error: {response.status_code} - {response.text}\")\n"
   ]
  },
  {
   "cell_type": "markdown",
   "metadata": {},
   "source": [
    "Output example for the code 68520-8-1:\n",
    "\n",
    "[{\"assessment\":\"Crude Oil, United States, - , contract, fob\",\"code\":\"68520-8-1\",\"coverage\":\"Americas\",\"currency\":\"USD\",\"product\":\"Energy Price References\",\"remark_1\":\"-\",\"remark_2\":\"lag: 0\",\"series_final_values\":[{\"date\":\"2023-10-01\",\"value\":85},{\"date\":\"2023-09-01\",\"value\":90.3},{\"date\":\"2023-08-01\",\"value\":81.2},{\"date\":\"2023-07-01\",\"value\":75.6},{\"date\":\"2023-06-01\",\"value\":70.2},{\"date\":\"2023-05-01\",\"value\":71.6},{\"date\":\"2023-04-01\",\"value\":79.2},{\"date\":\"2023-03-01\",\"value\":73.8},{\"date\":\"2023-02-01\",\"value\":76.9},{\"date\":\"2023-01-01\",\"value\":78.4},{\"date\":\"2022-12-01\",\"value\":76.7},{\"date\":\"2022-11-01\",\"value\":84},{\"date\":\"2022-10-01\",\"value\":87}],\"series_forecast_values\":[{\"date\":\"2024-07-01\",\"value\":78},{\"date\":\"2024-06-01\",\"value\":78},{\"date\":\"2024-05-01\",\"value\":78},{\"date\":\"2024-04-01\",\"value\":79},{\"date\":\"2024-03-01\",\"value\":79},{\"date\":\"2024-02-01\",\"value\":80},{\"date\":\"2024-01-01\",\"value\":81},{\"date\":\"2023-12-01\",\"value\":81},{\"date\":\"2023-11-01\",\"value\":89}],\"unit\":\"Bbl\",\"updated_at\":\"2023-11-06\"}]"
   ]
  }
 ],
 "metadata": {
  "kernelspec": {
   "display_name": "venv",
   "language": "python",
   "name": "python3"
  },
  "language_info": {
   "codemirror_mode": {
    "name": "ipython",
    "version": 3
   },
   "file_extension": ".py",
   "mimetype": "text/x-python",
   "name": "python",
   "nbconvert_exporter": "python",
   "pygments_lexer": "ipython3",
   "version": "3.12.2"
  }
 },
 "nbformat": 4,
 "nbformat_minor": 2
}
