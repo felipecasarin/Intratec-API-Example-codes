{
 "cells": [
  {
   "cell_type": "markdown",
   "metadata": {},
   "source": [
    "This is an example on how to use the **Intratec Energy Price References - Sandbox - Series Info** in Python, using the **requests** library\n",
    "\n",
    "**Tip:** this code can be implemented including the **Access Token** example to seamless integrate both APIs."
   ]
  },
  {
   "cell_type": "code",
   "execution_count": 1,
   "metadata": {},
   "outputs": [],
   "source": [
    "import requests\n",
    "import getpass"
   ]
  },
  {
   "cell_type": "code",
   "execution_count": 2,
   "metadata": {},
   "outputs": [],
   "source": [
    "#To create the authorization header using the Access Token obtained by the Intratec Access Token API:\n",
    "token = input(\"Paste your Access Token from the Intratec Access Token API:\")\n",
    "token = 'Bearer ' + token\n",
    "\n",
    "headers = {\n",
    "    'Authorization': token,\n",
    "    'Content-Type': 'application/json'\n",
    "}\n",
    "\n",
    "\n",
    "#This is the URL to the Get Series Info - Energy Price References API:\n",
    "ep_sb_series_info_api_url = 'https://intratec.azure-api.net/energy_price/v1/sandbox/export/series'"
   ]
  },
  {
   "cell_type": "code",
   "execution_count": 3,
   "metadata": {},
   "outputs": [],
   "source": [
    "#Make a GET request to the Energy Price References - Series Info API\n",
    "response = requests.get(ep_sb_series_info_api_url, headers=headers)"
   ]
  },
  {
   "cell_type": "code",
   "execution_count": null,
   "metadata": {},
   "outputs": [],
   "source": [
    "json_response = response.json()\n",
    "\n",
    "#Get the response\n",
    "print(json_response)"
   ]
  },
  {
   "cell_type": "markdown",
   "metadata": {},
   "source": [
    "Output example for the code 68520-8-1:\n",
    "\n",
    "[{\"assessment\":\"Crude Oil, west texas intermediate, United States, spot price, fob, Cushing\",\"available_currencies\":\"USD, USD cent, EUR, CNY, JPY, GBP\",\"available_units\":\"m3, Bbl, l, gal\",\"code\":\"68520-8-1\",\"coverage\":\"Americas\",\"default_currency\":\"USD\",\"default_unit\":\"Bbl\",\"has_forecast\":true,\"product\":\"Energy Price References\",\"remark_1\":\"lag: 0\",\"remark_2\":\"-\"}]\n",
    "\n",
    "The response above is **just an example**. A real response would contain several objects with information for **all codes under your subscription**."
   ]
  }
 ],
 "metadata": {
  "kernelspec": {
   "display_name": "venv",
   "language": "python",
   "name": "python3"
  },
  "language_info": {
   "codemirror_mode": {
    "name": "ipython",
    "version": 3
   },
   "file_extension": ".py",
   "mimetype": "text/x-python",
   "name": "python",
   "nbconvert_exporter": "python",
   "pygments_lexer": "ipython3",
   "version": "3.12.2"
  }
 },
 "nbformat": 4,
 "nbformat_minor": 2
}
