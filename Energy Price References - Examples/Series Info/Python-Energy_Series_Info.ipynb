{
 "cells": [
  {
   "cell_type": "markdown",
   "metadata": {},
   "source": [
    "This is an example on how to use the **Intratec Energy Price References - Series Info** in Python, using the **requests** library\n",
    "\n",
    "Note that this code can be used **without any changes**, as long as you have the necessary packages installed in your environment and fulfill the requirements to use Intratec APIs.\n",
    "\n",
    "**Tip:** this code can be implemented including the **Access Token** example to seamless integrate both APIs."
   ]
  },
  {
   "cell_type": "code",
   "execution_count": 1,
   "metadata": {},
   "outputs": [],
   "source": [
    "import requests\n",
    "import getpass #Not mandatory, but it helps to keep your credentials out of the code"
   ]
  },
  {
   "cell_type": "code",
   "execution_count": 2,
   "metadata": {},
   "outputs": [],
   "source": [
    "#To create the authorization header using the Access Token obtained by the Intratec Access Token API:\n",
    "token = input(\"Paste your Access Token from the Intratec Access Token API:\")\n",
    "token = 'Bearer ' + token\n",
    "\n",
    "headers = {\n",
    "    'Authorization': token,\n",
    "    'Content-Type': 'application/json'\n",
    "}\n",
    "\n",
    "\n",
    "#This is the URL to the Intratec Access Token API:\n",
    "ep_series_info_api_url = 'https://intratec.azure-api.net/energy_price/v1/export/series'"
   ]
  },
  {
   "cell_type": "code",
   "execution_count": 3,
   "metadata": {},
   "outputs": [],
   "source": [
    "#Make a GET request to the Energy Price References - Series Info API\n",
    "response = requests.get(ep_series_info_api_url, headers=headers)"
   ]
  },
  {
   "cell_type": "code",
   "execution_count": null,
   "metadata": {},
   "outputs": [],
   "source": [
    "# Check if the request was successful (status code 200)\n",
    "if response.status_code == 200:\n",
    "    #Parse the JSON response\n",
    "    json_response = response.json()\n",
    "\n",
    "    #Now you can use your Access Token in other Intratec API calls\n",
    "    print(json_response)\n",
    "else:\n",
    "    #Print an error message if the request was not successful\n",
    "    print(f\"Error: {response.status_code} - {response.text}\")\n"
   ]
  },
  {
   "cell_type": "markdown",
   "metadata": {},
   "source": [
    "Output example for the code 68520-8-1:\n",
    "\n",
    "[{\"assessment\":\"Crude Oil, United States, - , contract, fob\",\"available_currencies\":\"USD, USD cent, EUR, CNY, JPY, GBP\",\"available_units\":\"MMBtu, kWh, MWh, MJ, GJ\",\"code\":\"68520-8-1\",\"coverage\":\"Americas\",\"default_currency\":\"USD\",\"default_unit\":\"Bbl\",\"has_forecast\":true,\"product\":\"Energy Price References\",\"remark_1\":\"-\",\"remark_2\":\"lag: 0\"}]\n",
    "\n",
    "The response above is **just an example**. A real response would contain several objects with information for **all codes under your subscription**."
   ]
  }
 ],
 "metadata": {
  "kernelspec": {
   "display_name": "venv",
   "language": "python",
   "name": "python3"
  },
  "language_info": {
   "codemirror_mode": {
    "name": "ipython",
    "version": 3
   },
   "file_extension": ".py",
   "mimetype": "text/x-python",
   "name": "python",
   "nbconvert_exporter": "python",
   "pygments_lexer": "ipython3",
   "version": "3.12.2"
  }
 },
 "nbformat": 4,
 "nbformat_minor": 2
}
