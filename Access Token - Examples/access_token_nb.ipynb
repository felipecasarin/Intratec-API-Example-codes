{
 "cells": [
  {
   "cell_type": "markdown",
   "metadata": {},
   "source": [
    "This is an example on how to use the Intratec Access Token API in Python, using the **requests** library"
   ]
  },
  {
   "cell_type": "code",
   "execution_count": 3,
   "metadata": {},
   "outputs": [],
   "source": [
    "import requests\n",
    "import getpass #Not mandatory, but it helps to keep your credentials out of the code"
   ]
  },
  {
   "cell_type": "code",
   "execution_count": 4,
   "metadata": {},
   "outputs": [],
   "source": [
    "#This is the URL to the Intratec Access Token API:\n",
    "access_token_api_url = 'https://intratec.azure-api.net/access_token/v1'"
   ]
  },
  {
   "cell_type": "code",
   "execution_count": 5,
   "metadata": {},
   "outputs": [],
   "source": [
    "#Define the username and password. We do not recommend keeping credentials in open code\n",
    "#There are several available approaches for this part\n",
    "username = input(\"Insert your username: \")\n",
    "password = getpass.getpass(\"Insert your password: \")"
   ]
  },
  {
   "cell_type": "code",
   "execution_count": 6,
   "metadata": {},
   "outputs": [],
   "source": [
    "#Build the JSON body containing the user information to generate the Token\n",
    "body_data = {\n",
    "    'password': password,\n",
    "    'username': username\n",
    "}"
   ]
  },
  {
   "cell_type": "code",
   "execution_count": 7,
   "metadata": {},
   "outputs": [],
   "source": [
    "#Make a POST request to the Access Token API\n",
    "response = requests.post(access_token_api_url, json=body_data)"
   ]
  },
  {
   "cell_type": "code",
   "execution_count": 8,
   "metadata": {},
   "outputs": [
    {
     "name": "stdout",
     "output_type": "stream",
     "text": [
      "{'access_token': 'eyJhbGciOiJSUzI1NiIsImtpZCI6IjBYR1NLSzVIdFlHWkpLWmhXNndRQjE1M0NFUzFiRTNBaDROcy16MVFYaVUiLCJ0eXAiOiJKV1QifQ.eyJvaWQiOiIyYmU3NDNlYy00ZWViLTRlZjMtOGUyZS1kNmQyZWE0NWU2YzciLCJzdWIiOiIyYmU3NDNlYy00ZWViLTRlZjMtOGUyZS1kNmQyZWE0NWU2YzciLCJlbWFpbCI6InBhdWxhLnJheW9sQGludHJhdGVjLnVzIiwiZmlyc3RfbmFtZSI6IlBhdWxhIiwibGFzdF9uYW1lIjoiUmF5b2wiLCJjb21wYW55IjoiQ29tcGFueU5hbWUiLCJjcF9jb3ZlcmFnZSI6IjAiLCJjcF9pc19zdWJzY3JpYmVyIjpmYWxzZSwiY3BfYXBpX2FjY2VzcyI6ZmFsc2UsImVwX2NvdmVyYWdlIjoiMSwyLDMsNCw1LDYiLCJlcF9pc19zdWJzY3JpYmVyIjp0cnVlLCJlcF9hcGlfYWNjZXNzIjp0cnVlLCJpbl91Y19jb3ZlcmFnZSI6IjEsMiwzLDQsNSw2IiwiaW5fdWNfaXNfc3Vic2NyaWJlciI6dHJ1ZSwiaW5fdWNfYXBpX2FjY2VzcyI6dHJ1ZSwiaW5fbGZfY292ZXJhZ2UiOiIxLDIsMyw0LDUsNiIsImluX2xmX2lzX3N1YnNjcmliZXIiOnRydWUsImluX2xmX2FwaV9hY2Nlc3MiOnRydWUsImluX2NpX2NvdmVyYWdlIjoiMSIsImluX2NpX2lzX3N1YnNjcmliZXIiOnRydWUsImluX2NpX2FwaV9hY2Nlc3MiOnRydWUsInRpZCI6Ijc0YjkzN2U5LTM2ZDUtNDViNy04OTMyLTMyYjk2YzQ5MGEzZSIsImF6cCI6IjQwZTIzYWVjLWUxZTgtNGViYy05ZGQ0LTcwYTk3ZTNmYmE4MCIsInZlciI6IjEuMCIsImlhdCI6MTcwODcwNjA5NSwiYXVkIjoiNDBlMjNhZWMtZTFlOC00ZWJjLTlkZDQtNzBhOTdlM2ZiYTgwIiwiZXhwIjoxNzA4NzEzMjk1LCJpc3MiOiJodHRwczovL2ludHJhdGVjbG9naW4uYjJjbG9naW4uY29tLzc0YjkzN2U5LTM2ZDUtNDViNy04OTMyLTMyYjk2YzQ5MGEzZS92Mi4wLyIsIm5iZiI6MTcwODcwNjA5NX0.EvxUNWhyIvxCDVUXASA0wPo4gjV_waPKLMLXPOO59Y8qiyzH5iHJVBM3yPUZSetdWUFtw9x0QqVRjIVLprAXGnHAei7BqEnXqe0Lp8xhnPccI-eO24xgo0vyQ7c6K21b_SQ1nrJ8xVQxVVZ_aipVOvmQYfFwmC139f88K16SKSwYzi2tyRwk09WU4zivUNn2nRcxbBber50Hzb0YUcWwuO1HFgnXRquzGKr_hRSbEXW177QMBPSyOMkrkVnkgVgPgaQQM5GlO3KCSMjTy8mpLzOutCrRXB_NcXs0ZNs4z3hxOHT02cisQhOAXpHGvh_u0pgmvJW_svkyml4W9d1J_g'}\n"
     ]
    }
   ],
   "source": [
    "# Check if the request was successful (status code 200)\n",
    "if response.status_code == 200:\n",
    "    #Parse the JSON response\n",
    "    json_response = response.json()\n",
    "\n",
    "    #Now you can use your Access Token in other Intratec API calls\n",
    "    print(json_response)\n",
    "else:\n",
    "    #Print an error message if the request was not successful\n",
    "    print(f\"Error: {response.status_code} - {response.text}\")\n"
   ]
  }
 ],
 "metadata": {
  "kernelspec": {
   "display_name": "venv",
   "language": "python",
   "name": "python3"
  },
  "language_info": {
   "codemirror_mode": {
    "name": "ipython",
    "version": 3
   },
   "file_extension": ".py",
   "mimetype": "text/x-python",
   "name": "python",
   "nbconvert_exporter": "python",
   "pygments_lexer": "ipython3",
   "version": "3.12.2"
  }
 },
 "nbformat": 4,
 "nbformat_minor": 2
}
