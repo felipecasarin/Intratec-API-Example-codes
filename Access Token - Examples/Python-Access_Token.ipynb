{
 "cells": [
  {
   "cell_type": "markdown",
   "metadata": {},
   "source": [
    "This is an example on how to use the **Intratec Access Token API** in Python, using the **requests** library\n",
    "\n",
    "Note that this code can be used **without any changes**, as long as you have the necessary packages installed in your environment and fulfill the requirements to use Intratec APIs."
   ]
  },
  {
   "cell_type": "code",
   "execution_count": 3,
   "metadata": {},
   "outputs": [],
   "source": [
    "import requests\n",
    "import getpass #Not mandatory, but it helps to keep your credentials out of the code"
   ]
  },
  {
   "cell_type": "code",
   "execution_count": 4,
   "metadata": {},
   "outputs": [],
   "source": [
    "#This is the URL to the Intratec Access Token API:\n",
    "access_token_api_url = 'https://intratec.azure-api.net/access_token/v1'"
   ]
  },
  {
   "cell_type": "code",
   "execution_count": 5,
   "metadata": {},
   "outputs": [],
   "source": [
    "#Define the username and password. We do not recommend keeping credentials in open code\n",
    "#There are several available approaches for this part\n",
    "username = input(\"Insert your username: \")\n",
    "password = getpass.getpass(\"Insert your password: \")"
   ]
  },
  {
   "cell_type": "code",
   "execution_count": 6,
   "metadata": {},
   "outputs": [],
   "source": [
    "#Build the JSON body containing the user information to generate the Token\n",
    "body_data = {\n",
    "    'password': password,\n",
    "    'username': username\n",
    "}"
   ]
  },
  {
   "cell_type": "code",
   "execution_count": 7,
   "metadata": {},
   "outputs": [],
   "source": [
    "#Make a POST request to the Access Token API\n",
    "response = requests.post(access_token_api_url, json=body_data)"
   ]
  },
  {
   "cell_type": "code",
   "execution_count": null,
   "metadata": {},
   "outputs": [],
   "source": [
    "# Check if the request was successful (status code 200)\n",
    "if response.status_code == 200:\n",
    "    #Parse the JSON response\n",
    "    json_response = response.json()\n",
    "\n",
    "    #Now you can use your Access Token in other Intratec API calls\n",
    "    print(json_response)\n",
    "else:\n",
    "    #Print an error message if the request was not successful\n",
    "    print(f\"Error: {response.status_code} - {response.text}\")\n"
   ]
  }
 ],
 "metadata": {
  "kernelspec": {
   "display_name": "venv",
   "language": "python",
   "name": "python3"
  },
  "language_info": {
   "codemirror_mode": {
    "name": "ipython",
    "version": 3
   },
   "file_extension": ".py",
   "mimetype": "text/x-python",
   "name": "python",
   "nbconvert_exporter": "python",
   "pygments_lexer": "ipython3",
   "version": "3.12.2"
  }
 },
 "nbformat": 4,
 "nbformat_minor": 2
}
